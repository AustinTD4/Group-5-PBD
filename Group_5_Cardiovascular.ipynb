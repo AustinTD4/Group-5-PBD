{
 "cells": [
  {
   "cell_type": "code",
   "execution_count": 62,
   "id": "07b5629c",
   "metadata": {
    "scrolled": true
   },
   "outputs": [
    {
     "name": "stdout",
     "output_type": "stream",
     "text": [
      "[[24779 10242]\n",
      " [10364 24615]]\n",
      "0.7056273694253323\n"
     ]
    },
    {
     "name": "stderr",
     "output_type": "stream",
     "text": [
      "C:\\Users\\austi\\miniconda3.7\\lib\\site-packages\\sklearn\\utils\\validation.py:1692: FutureWarning: Feature names only support names that are all strings. Got feature names with dtypes: ['int', 'str']. An error will be raised in 1.2.\n",
      "  FutureWarning,\n"
     ]
    },
    {
     "name": "stdout",
     "output_type": "stream",
     "text": [
      "[[24808 10213]\n",
      " [10330 24649]]\n",
      "0.7065274572495606\n"
     ]
    }
   ],
   "source": [
    "import random\n",
    "import numpy as np\n",
    "import pandas as pd\n",
    "import sklearn\n",
    "import matplotlib.pyplot as plt\n",
    "from scipy import stats\n",
    "import datetime\n",
    "import sys\n",
    "from io import StringIO\n",
    "import statsmodels.api as sm\n",
    "import os\n",
    "from sklearn.preprocessing import PolynomialFeatures\n",
    "from sklearn.pipeline import make_pipeline\n",
    "from sklearn.ensemble import RandomForestClassifier\n",
    "from sklearn.metrics import confusion_matrix\n",
    "from sklearn.metrics import f1_score\n",
    "from sklearn.model_selection import KFold\n",
    "from sklearn.model_selection import cross_val_predict\n",
    "\n",
    "\n",
    "os.chdir(\"C:/Users/austi/Downloads\")\n",
    "cardiodf = pd.read_csv('archive/cardio_train.csv', delimiter=';')\n",
    "explncontdf = pd.DataFrame(cardiodf[['age','height','weight','ap_hi','ap_lo','cholesterol']])\n",
    "explncontdf['BMI'] = explncontdf['weight']/((explncontdf['height']/100)**2)\n",
    "expln1hotdf = pd.DataFrame(cardiodf[['gluc','smoke','alco','active']])\n",
    "expln1hotdf['gender_1'] = (cardiodf['gender']-1)\n",
    "expln1hotdf['gender_2'] = (cardiodf['gender']%2)\n",
    "target = cardiodf['cardio'].values\n",
    "\n",
    "trees = RandomForestClassifier(n_estimators=25, random_state=42)\n",
    "fold = KFold(n_splits=5, random_state=42, shuffle=True)\n",
    "\n",
    "X = pd.concat([explncontdf,expln1hotdf],axis=1)\n",
    "predict = cross_val_predict(trees, X, target, cv=fold, n_jobs=-1)\n",
    "confusion = confusion_matrix(target, predict)\n",
    "f1 = f1_score(target, predict, average='weighted')\n",
    "\n",
    "print(confusion)\n",
    "print(f1)\n",
    "\n",
    "poly = PolynomialFeatures(1)\n",
    "polydf = pd.DataFrame(poly.fit_transform(explncontdf))\n",
    "\n",
    "X2 = pd.concat([polydf,expln1hotdf],axis=1)\n",
    "nextbest = trees.fit(X2, target)\n",
    "predict2 = cross_val_predict(trees, X2, target, cv=fold, n_jobs=-1)\n",
    "confusion = confusion_matrix(target, predict2)\n",
    "f1 = f1_score(target, predict2, average='weighted')\n",
    "\n",
    "print(confusion)\n",
    "print(f1)\n",
    "\n"
   ]
  }
 ],
 "metadata": {
  "kernelspec": {
   "display_name": "Python 3 (ipykernel)",
   "language": "python",
   "name": "python3"
  },
  "language_info": {
   "codemirror_mode": {
    "name": "ipython",
    "version": 3
   },
   "file_extension": ".py",
   "mimetype": "text/x-python",
   "name": "python",
   "nbconvert_exporter": "python",
   "pygments_lexer": "ipython3",
   "version": "3.7.13"
  }
 },
 "nbformat": 4,
 "nbformat_minor": 5
}
