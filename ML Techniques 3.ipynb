{
 "cells": [
  {
   "cell_type": "code",
   "execution_count": null,
   "id": "33a08c5a",
   "metadata": {},
   "outputs": [],
   "source": [
    "import random\n",
    "import numpy as np\n",
    "import pandas as pd\n",
    "import sklearn\n",
    "import matplotlib.pyplot as plt\n",
    "from scipy import stats\n",
    "import datetime\n",
    "import sys\n",
    "from io import StringIO\n",
    "import statsmodels.api as sm\n",
    "import os\n",
    "from sklearn.preprocessing import PolynomialFeatures\n",
    "from sklearn.pipeline import make_pipeline\n",
    "from sklearn.ensemble import RandomForestClassifier\n",
    "from sklearn.metrics import confusion_matrix\n",
    "from sklearn.metrics import f1_score\n",
    "from sklearn.model_selection import KFold\n",
    "from sklearn.model_selection import cross_val_predict\n",
    "from sklearn.model_selection import GridSearchCV"
   ]
  },
  {
   "cell_type": "code",
   "execution_count": null,
   "id": "ac20aa46",
   "metadata": {},
   "outputs": [],
   "source": [
    "#This code preprocesses the data to add BMI and make one hot versions of some variables\n",
    "os.chdir(\"C:/Users/austi/Downloads\")\n",
    "cardiodf = pd.read_csv('archive/cardio_train.csv', delimiter=';')\n",
    "explncontdf = pd.DataFrame(cardiodf[['age','height','weight','ap_hi','ap_lo','cholesterol','gluc']])\n",
    "explncontdf['BMI'] = round(explncontdf['weight']/((explncontdf['height']/100)**2),2)\n",
    "expln1hotdf = pd.DataFrame(cardiodf[['smoke','alco','active']])\n",
    "expln1hotdf['gender_1'] = (cardiodf['gender']-1)\n",
    "expln1hotdf['gender_2'] = (cardiodf['gender']%2)\n",
    "target = pd.DataFrame(cardiodf['cardio'])\n",
    "\n",
    "#file_name = 'Cardio_BMI_OneHot.xlsx'\n",
    "#X.to_excel(\"Cardio_BMI_OneHot.xlsx\")"
   ]
  },
  {
   "cell_type": "code",
   "execution_count": null,
   "id": "e4fdcab3",
   "metadata": {},
   "outputs": [],
   "source": [
    "#The cells above should go first"
   ]
  },
  {
   "cell_type": "code",
   "execution_count": null,
   "id": "850668b5",
   "metadata": {},
   "outputs": [],
   "source": [
    "#This area is for everything else"
   ]
  },
  {
   "cell_type": "code",
   "execution_count": 1,
   "id": "04940f01",
   "metadata": {},
   "outputs": [],
   "source": [
    "#The cells below should go at the end"
   ]
  },
  {
   "cell_type": "code",
   "execution_count": 5,
   "id": "1dc7cb22",
   "metadata": {},
   "outputs": [
    {
     "name": "stdout",
     "output_type": "stream",
     "text": [
      "[[24760 10261]\n",
      " [10284 24695]]\n",
      "0.7064999104524738\n",
      "[[24767 10254]\n",
      " [10283 24696]]\n",
      "0.7066141624322843\n"
     ]
    }
   ],
   "source": [
    "#This code sets the default classfier use for data split testing in the next cell\n",
    "trees = RandomForestClassifier(n_estimators=25, random_state=42)\n",
    "fold = KFold(n_splits=5, random_state=42, shuffle=True)\n",
    "\n",
    "#This code runs a test for the data without polynomial features\n",
    "X = pd.concat([explncontdf,expln1hotdf],axis=1)\n",
    "#This creates a version of the dataframe that includes the target\n",
    "X9 = pd.concat([X,target],axis=1)\n",
    "\n",
    "predict = cross_val_predict(trees, X, target, cv=fold, n_jobs=-1)\n",
    "confusion = confusion_matrix(target, predict)\n",
    "f1 = f1_score(target, predict, average='weighted')\n",
    "\n",
    "print(confusion)\n",
    "print(f1)\n",
    "\n",
    "#this code tests the baseline against versions with polynomial features added\n",
    "poly = PolynomialFeatures(1)\n",
    "#poly2 = PolynomialFeatures(2)\n",
    "#poly3 = PolynomialFeatures(3)\n",
    "polydf = pd.DataFrame(poly.fit_transform(explncontdf))\n",
    "\n",
    "X2 = pd.concat([polydf,expln1hotdf],axis=1)\n",
    "predict2 = cross_val_predict(trees, X2, target, cv=fold, n_jobs=-1)\n",
    "confusion = confusion_matrix(target, predict2)\n",
    "f1 = f1_score(target, predict2, average='weighted')\n",
    "\n",
    "print(confusion)\n",
    "print(f1)"
   ]
  },
  {
   "cell_type": "code",
   "execution_count": 4,
   "id": "c9e2c1dd",
   "metadata": {},
   "outputs": [
    {
     "name": "stderr",
     "output_type": "stream",
     "text": [
      "C:\\Users\\austi\\miniconda3.7\\lib\\site-packages\\sklearn\\model_selection\\_search.py:926: DataConversionWarning: A column-vector y was passed when a 1d array was expected. Please change the shape of y to (n_samples,), for example using ravel().\n",
      "  self.best_estimator_.fit(X, y, **fit_params)\n"
     ]
    },
    {
     "name": "stdout",
     "output_type": "stream",
     "text": [
      "{'n_estimators': 950}\n"
     ]
    }
   ],
   "source": [
    "#This code searches for the best hyperparameters for the final version of the decision tree model\n",
    "#param_list = {'n_estimators' : [5,10,15,20,25,30,35,40,45,50,55,60,65,70,75,80,85,90,95,100]}\n",
    "#param_list = {'n_estimators' : [100,200,300,400,500,600,700,800,900,1000]}\n",
    "param_list = {'n_estimators' : [850, 900, 950]}\n",
    "search = GridSearchCV(trees, param_list, cv=5, n_jobs=-1)\n",
    "search.fit(X,target)\n",
    "print(search.best_params_)"
   ]
  },
  {
   "cell_type": "code",
   "execution_count": 5,
   "id": "af1f5679",
   "metadata": {},
   "outputs": [
    {
     "name": "stdout",
     "output_type": "stream",
     "text": [
      "[[25166  9855]\n",
      " [10202 24777]]\n",
      "0.7134635351672255\n",
      "[[25093  9928]\n",
      " [10170 24809]]\n",
      "0.7128816871192972\n"
     ]
    }
   ],
   "source": [
    "#This code tests the final random forest model without and with polynomial features\n",
    "trees2 = RandomForestClassifier(n_estimators=950, random_state=42)\n",
    "predict = cross_val_predict(trees2, X, target, cv=fold, n_jobs=-1)\n",
    "confusion = confusion_matrix(target, predict)\n",
    "f1 = f1_score(target, predict, average='weighted')\n",
    "print(confusion)\n",
    "print(f1)\n",
    "\n",
    "predict2 = cross_val_predict(trees2, X2, target, cv=fold, n_jobs=-1)\n",
    "confusion = confusion_matrix(target, predict2)\n",
    "f1 = f1_score(target, predict2, average='weighted')\n",
    "\n",
    "print(confusion)\n",
    "print(f1)"
   ]
  },
  {
   "cell_type": "code",
   "execution_count": 12,
   "id": "66b81ddc",
   "metadata": {},
   "outputs": [
    {
     "name": "stdout",
     "output_type": "stream",
     "text": [
      "Smoke: yes vs. no\n",
      "[[2518  722]\n",
      " [ 852 2077]]\n",
      "0.7444669607486671\n",
      "[[22263  9518]\n",
      " [ 9506 22544]]\n",
      "0.701962749374053\n",
      "Alcohol: yes vs. no\n",
      "[[1487  454]\n",
      " [ 493 1330]]\n",
      "0.7482970276030072\n",
      "[[23326  9754]\n",
      " [ 9887 23269]]\n",
      "0.70346890000531\n",
      "Glucose: ok, high, vs very high\n",
      "[[22647  8247]\n",
      " [ 8987 19598]]\n",
      "0.7100653973730725\n",
      "[[1240  872]\n",
      " [ 697 2381]]\n",
      "0.6953330332856714\n",
      "[[ 950 1065]\n",
      " [ 693 2623]]\n",
      "0.6622202332145022\n",
      "Cholesterol: ok, high, vs very high\n",
      "[[22229  7101]\n",
      " [ 8719 14336]]\n",
      "0.6965670862602673\n",
      "[[2236 1563]\n",
      " [1348 4402]]\n",
      "0.6935099563652587\n",
      "[[ 348 1544]\n",
      " [ 436 5738]]\n",
      "0.7138121387390192\n",
      "Active: yes vs. no\n",
      "[[20755  7888]\n",
      " [ 8302 19316]]\n",
      "0.7121798556813932\n",
      "[[4080 2298]\n",
      " [2028 5333]]\n",
      "0.6845608552232465\n",
      "Gender 1 vs. Gender 2\n",
      "[[8497 3610]\n",
      " [3725 8638]]\n",
      "0.7002533158380602\n",
      "[[16300  6614]\n",
      " [ 6652 15964]]\n",
      "0.7086298767183843\n",
      "Double Trouble??\n",
      "[[816 214]\n",
      " [241 583]]\n",
      "0.7541283130298531\n"
     ]
    }
   ],
   "source": [
    "#In this section, data is split between various one hot variables, then the two datasets are each fit to a random forest learning model\n",
    "#We see the influnce some particular factors have on the accuracy of the model\n",
    "X2smoke = X2[X2['smoke']==1]\n",
    "target2 = cardiodf[cardiodf['smoke']==1]\n",
    "target2 = target2['cardio']\n",
    "X2nope = X2[X2['smoke']==0]\n",
    "target3 = cardiodf[cardiodf['smoke']==0]\n",
    "target3 = target3['cardio']\n",
    "print(\"Smoke: yes vs. no\")\n",
    "predict2 = cross_val_predict(trees, X2smoke, target2, cv=fold, n_jobs=-1)\n",
    "confusion = confusion_matrix(target2, predict2)\n",
    "f1 = f1_score(target2, predict2, average='weighted')\n",
    "print(confusion)\n",
    "print(f1)\n",
    "\n",
    "predict3 = cross_val_predict(trees, X2nope, target3, cv=fold, n_jobs=-1)\n",
    "confusion = confusion_matrix(target3, predict3)\n",
    "f1 = f1_score(target3, predict3, average='weighted')\n",
    "print(confusion)\n",
    "print(f1)\n",
    "\n",
    "X2alco = X2[X2['alco']==1]\n",
    "target2 = cardiodf[cardiodf['alco']==1]\n",
    "target2 = target2['cardio']\n",
    "X2nalco = X2[X2['alco']==0]\n",
    "target3 = cardiodf[cardiodf['alco']==0]\n",
    "target3 = target3['cardio']\n",
    "print(\"Alcohol: yes vs. no\")\n",
    "predict2 = cross_val_predict(trees, X2alco, target2, cv=fold, n_jobs=-1)\n",
    "confusion = confusion_matrix(target2, predict2)\n",
    "f1 = f1_score(target2, predict2, average='weighted')\n",
    "print(confusion)\n",
    "print(f1)\n",
    "\n",
    "predict3 = cross_val_predict(trees, X2nalco, target3, cv=fold, n_jobs=-1)\n",
    "confusion = confusion_matrix(target3, predict3)\n",
    "f1 = f1_score(target3, predict3, average='weighted')\n",
    "print(confusion)\n",
    "print(f1)\n",
    "\n",
    "X1gluc = X[X['gluc']==1]\n",
    "target2 = cardiodf[cardiodf['gluc']==1]\n",
    "target2 = target2['cardio']\n",
    "X2gluc = X[X['gluc']==2]\n",
    "target3 = cardiodf[cardiodf['gluc']==2]\n",
    "target3 = target3['cardio']\n",
    "X3gluc = X[X['gluc']==3]\n",
    "target4 = cardiodf[cardiodf['gluc']==3]\n",
    "target4 = target4['cardio']\n",
    "print(\"Glucose: ok, high, vs very high\")\n",
    "predict2 = cross_val_predict(trees, X1gluc, target2, cv=fold, n_jobs=-1)\n",
    "confusion = confusion_matrix(target2, predict2)\n",
    "f1 = f1_score(target2, predict2, average='weighted')\n",
    "print(confusion)\n",
    "print(f1)\n",
    "\n",
    "predict3 = cross_val_predict(trees, X2gluc, target3, cv=fold, n_jobs=-1)\n",
    "confusion = confusion_matrix(target3, predict3)\n",
    "f1 = f1_score(target3, predict3, average='weighted')\n",
    "print(confusion)\n",
    "print(f1)\n",
    "\n",
    "predict4 = cross_val_predict(trees, X3gluc, target4, cv=fold, n_jobs=-1)\n",
    "confusion = confusion_matrix(target4, predict4)\n",
    "f1 = f1_score(target4, predict4, average='weighted')\n",
    "print(confusion)\n",
    "print(f1)\n",
    "\n",
    "X1chol = X[X['cholesterol']==1]\n",
    "target2 = cardiodf[cardiodf['cholesterol']==1]\n",
    "target2 = target2['cardio']\n",
    "X2chol = X[X['cholesterol']==2]\n",
    "target3 = cardiodf[cardiodf['cholesterol']==2]\n",
    "target3 = target3['cardio']\n",
    "X3chol = X[X['cholesterol']==3]\n",
    "target4 = cardiodf[cardiodf['cholesterol']==3]\n",
    "target4 = target4['cardio']\n",
    "print(\"Cholesterol: ok, high, vs very high\")\n",
    "predict2 = cross_val_predict(trees, X1chol, target2, cv=fold, n_jobs=-1)\n",
    "confusion = confusion_matrix(target2, predict2)\n",
    "f1 = f1_score(target2, predict2, average='weighted')\n",
    "print(confusion)\n",
    "print(f1)\n",
    "\n",
    "predict3 = cross_val_predict(trees, X2chol, target3, cv=fold, n_jobs=-1)\n",
    "confusion = confusion_matrix(target3, predict3)\n",
    "f1 = f1_score(target3, predict3, average='weighted')\n",
    "print(confusion)\n",
    "print(f1)\n",
    "\n",
    "predict4 = cross_val_predict(trees, X3chol, target4, cv=fold, n_jobs=-1)\n",
    "confusion = confusion_matrix(target4, predict4)\n",
    "f1 = f1_score(target4, predict4, average='weighted')\n",
    "print(confusion)\n",
    "print(f1)\n",
    "\n",
    "X2act = X2[X2['active']==1]\n",
    "target2 = cardiodf[cardiodf['active']==1]\n",
    "target2 = target2['cardio']\n",
    "X2nact = X2[X2['active']==0]\n",
    "target3 = cardiodf[cardiodf['active']==0]\n",
    "target3 = target3['cardio']\n",
    "print(\"Active: yes vs. no\")\n",
    "nextbest = trees.fit(X2act.values, target2)\n",
    "predict2 = cross_val_predict(trees, X2act, target2, cv=fold, n_jobs=-1)\n",
    "confusion = confusion_matrix(target2, predict2)\n",
    "f1 = f1_score(target2, predict2, average='weighted')\n",
    "print(confusion)\n",
    "print(f1)\n",
    "\n",
    "nextbest = trees.fit(X2nact.values, target3)\n",
    "predict3 = cross_val_predict(trees, X2nact, target3, cv=fold, n_jobs=-1)\n",
    "confusion = confusion_matrix(target3, predict3)\n",
    "f1 = f1_score(target3, predict3, average='weighted')\n",
    "print(confusion)\n",
    "print(f1)\n",
    "\n",
    "X2gen1 = X2[X2['gender_1']==1]\n",
    "target2 = X9[X9['gender_1']==1]\n",
    "target2 = target2['cardio']\n",
    "X2gen2 = X2[X2['gender_1']==0]\n",
    "target3 = X9[X9['gender_1']==0]\n",
    "target3 = target3['cardio']\n",
    "print(\"Gender 1 vs. Gender 2\")\n",
    "predict2 = cross_val_predict(trees, X2gen1, target2, cv=fold, n_jobs=-1)\n",
    "confusion = confusion_matrix(target2, predict2)\n",
    "f1 = f1_score(target2, predict2, average='weighted')\n",
    "print(confusion)\n",
    "print(f1)\n",
    "\n",
    "predict3 = cross_val_predict(trees, X2gen2, target3, cv=fold, n_jobs=-1)\n",
    "confusion = confusion_matrix(target3, predict3)\n",
    "f1 = f1_score(target3, predict3, average='weighted')\n",
    "print(confusion)\n",
    "print(f1)\n",
    "\n",
    "print(\"Double Trouble??\")\n",
    "X2both = X2[X2['smoke']==1]\n",
    "X2both = X2both[X2both['alco']==1]\n",
    "target2 = cardiodf[cardiodf['smoke']==1]\n",
    "target2 = target2[target2['alco']==1]\n",
    "target2 = target2['cardio']\n",
    "predict2 = cross_val_predict(trees, X2both, target2, cv=fold, n_jobs=-1)\n",
    "confusion = confusion_matrix(target2, predict2)\n",
    "f1 = f1_score(target2, predict2, average='weighted')\n",
    "print(confusion)\n",
    "print(f1)\n"
   ]
  },
  {
   "cell_type": "code",
   "execution_count": 3,
   "id": "7b495bba",
   "metadata": {},
   "outputs": [],
   "source": [
    "from sklearn.svm import SVC\n",
    "\n",
    "#This code searches for the best parameter for the penalty on the SVC\n",
    "#param_list = {'C' : [0.1, 1, 10, 100, 1000, 10000, 100000, 1000000, 10000000]}\n",
    "#param_list = {'C' : [800000, 900000, 1000000, 1100000, 1200000]}\n",
    "#search = GridSearchCV(model, param_list, cv=5, n_jobs=-1)\n",
    "#search.fit(X2,target)\n",
    "#print(search.best_params_)\n",
    "\n",
    "model = SVC(kernel='rbf', C=1000000, random_state=42)\n",
    "target = cardiodf['cardio']\n",
    "\n",
    "#This code tests the final version of the model\n",
    "model.fit(X,target)\n",
    "predict2 = cross_val_predict(model, X, target, cv=fold, n_jobs=-1)\n",
    "confusion = confusion_matrix(target, predict2)\n",
    "f1 = f1_score(target, predict2, average='weighted')\n",
    "print(confusion)\n",
    "print(f1)\n"
   ]
  },
  {
   "cell_type": "code",
   "execution_count": 21,
   "id": "1f6f22ee",
   "metadata": {},
   "outputs": [
    {
     "name": "stdout",
     "output_type": "stream",
     "text": [
      "[[26428  8593]\n",
      " [10302 24677]]\n",
      "0.729906478383598\n"
     ]
    },
    {
     "name": "stderr",
     "output_type": "stream",
     "text": [
      "C:\\Users\\austi\\miniconda3.7\\lib\\site-packages\\sklearn\\utils\\validation.py:1692: FutureWarning: Feature names only support names that are all strings. Got feature names with dtypes: ['int', 'str']. An error will be raised in 1.2.\n",
      "  FutureWarning,\n"
     ]
    },
    {
     "name": "stdout",
     "output_type": "stream",
     "text": [
      "[[26458  8563]\n",
      " [10287 24692]]\n",
      "0.7305468601762154\n"
     ]
    }
   ],
   "source": [
    "#This code compares the final model with and without polynomial features included (X without, X2 with)\n",
    "model = SVC(kernel='rbf', C=1000000, random_state=42)\n",
    "model.fit(X,target)\n",
    "predict2 = cross_val_predict(model, X, target, cv=fold, n_jobs=-1)\n",
    "confusion = confusion_matrix(target, predict2)\n",
    "f1 = f1_score(target, predict2, average='weighted')\n",
    "print(confusion)\n",
    "print(f1)\n",
    "\n",
    "model.fit(X2,target)\n",
    "predict2 = cross_val_predict(model, X2.values, target, cv=fold, n_jobs=-1)\n",
    "confusion = confusion_matrix(target, predict2)\n",
    "f1 = f1_score(target, predict2, average='weighted')\n",
    "print(confusion)\n",
    "print(f1)"
   ]
  },
  {
   "cell_type": "code",
   "execution_count": null,
   "id": "2406892a",
   "metadata": {},
   "outputs": [],
   "source": [
    "from sklearn.decomposition import PCA\n",
    "%matplotlib inline\n",
    "import matplotlib.pyplot as plt\n",
    "\n",
    "#This code checks to see how many principal components are needed to explain the variance in the data\n",
    "pca = PCA(n_components = 5)\n",
    "pca.fit(X)\n",
    "plt.plot(np.cumsum(pca.explained_variance_ratio_))\n",
    "plt.xlabel('number of components')\n",
    "plt.ylabel('cumulative explained variance')\n",
    "pca2 = PCA(n_components = 2)\n",
    "pca2.fit(X)\n",
    "components = pca2.transform(X)\n",
    "print(components.shape)\n",
    "\n",
    "#This code tests a random forest model on the optimal number of components\n",
    "predict = cross_val_predict(trees, components, target, cv=fold, n_jobs=-1)\n",
    "confusion = confusion_matrix(target, predict)\n",
    "f1 = f1_score(target, predict, average='weighted')\n",
    "print(confusion)\n",
    "print(f1)"
   ]
  },
  {
   "cell_type": "code",
   "execution_count": 20,
   "id": "4899d129",
   "metadata": {},
   "outputs": [
    {
     "name": "stdout",
     "output_type": "stream",
     "text": [
      "[[17798 17223]\n",
      " [16351 18628]]\n",
      "0.5203005745334278\n"
     ]
    }
   ],
   "source": [
    "from sklearn.cluster import KMeans\n",
    "\n",
    "#This code tests the unsupervised learning model on 2 clusters\n",
    "cluster = KMeans(n_clusters=2, random_state=42)\n",
    "target = cardiodf['cardio']\n",
    "cluster.fit(X2.values,target)\n",
    "predict2 = cross_val_predict(cluster, X2.values, target, cv=fold, n_jobs=-1)\n",
    "confusion = confusion_matrix(target, predict2)\n",
    "f1 = f1_score(target, predict2, average='weighted')\n",
    "print(confusion)\n",
    "print(f1)\n"
   ]
  },
  {
   "cell_type": "code",
   "execution_count": null,
   "id": "daca9fea",
   "metadata": {
    "scrolled": true
   },
   "outputs": [],
   "source": []
  }
 ],
 "metadata": {
  "kernelspec": {
   "display_name": "Python 3 (ipykernel)",
   "language": "python",
   "name": "python3"
  },
  "language_info": {
   "codemirror_mode": {
    "name": "ipython",
    "version": 3
   },
   "file_extension": ".py",
   "mimetype": "text/x-python",
   "name": "python",
   "nbconvert_exporter": "python",
   "pygments_lexer": "ipython3",
   "version": "3.7.13"
  }
 },
 "nbformat": 4,
 "nbformat_minor": 5
}
