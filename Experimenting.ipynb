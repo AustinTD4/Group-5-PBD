{
 "cells": [
  {
   "cell_type": "code",
   "execution_count": 12,
   "metadata": {},
   "outputs": [],
   "source": [
    "import random\n",
    "import numpy as np\n",
    "import pandas as pd\n",
    "import seaborn as sns\n",
    "import sklearn\n",
    "import matplotlib.pyplot as plt\n",
    "from matplotlib.pylab import rcParams\n",
    "rcParams['figure.figsize'] = 20, 10\n",
    "from scipy import stats\n",
    "import datetime\n",
    "import sys\n",
    "from io import StringIO\n",
    "import statsmodels.api as sm\n",
    "import os\n",
    "from sklearn.preprocessing import PolynomialFeatures\n",
    "from sklearn.pipeline import make_pipeline\n",
    "from sklearn.ensemble import RandomForestClassifier\n",
    "from sklearn.metrics import confusion_matrix\n",
    "from sklearn.metrics import f1_score\n",
    "from sklearn.model_selection import KFold\n",
    "from sklearn.model_selection import cross_val_predict"
   ]
  },
  {
   "cell_type": "code",
   "execution_count": 13,
   "metadata": {},
   "outputs": [],
   "source": [
    "df = pd.read_excel('Final_XLS.xlsx')\n",
    "# df = pd.read_csv('cardio_train.csv')"
   ]
  },
  {
   "cell_type": "code",
   "execution_count": 14,
   "metadata": {},
   "outputs": [
    {
     "name": "stdout",
     "output_type": "stream",
     "text": [
      "       Unnamed: 0    age  height  weight  ap_hi  ap_lo  cholesterol    BMI  \\\n",
      "0               0  18393     168    62.0    110     80            1  21.97   \n",
      "1               1  20228     156    85.0    140     90            3  34.93   \n",
      "2               2  18857     165    64.0    130     70            3  23.51   \n",
      "3               3  17623     169    82.0    150    100            1  28.71   \n",
      "4               4  17474     156    56.0    100     60            1  23.01   \n",
      "...           ...    ...     ...     ...    ...    ...          ...    ...   \n",
      "69995       69995  19240     168    76.0    120     80            1  26.93   \n",
      "69996       69996  22601     158   126.0    140     90            2  50.47   \n",
      "69997       69997  19066     183   105.0    180     90            3  31.35   \n",
      "69998       69998  22431     163    72.0    135     80            1  27.10   \n",
      "69999       69999  20540     170    72.0    120     80            2  24.91   \n",
      "\n",
      "       gluc  smoke  alco  active  gender_2  gender_1  cardio  \n",
      "0         1      0     0       1         1         0       0  \n",
      "1         1      0     0       1         0         1       1  \n",
      "2         1      0     0       0         0         1       1  \n",
      "3         1      0     0       1         1         0       1  \n",
      "4         1      0     0       0         0         1       0  \n",
      "...     ...    ...   ...     ...       ...       ...     ...  \n",
      "69995     1      1     0       1         1         0       0  \n",
      "69996     2      0     0       1         0         1       1  \n",
      "69997     1      0     1       0         1         0       1  \n",
      "69998     2      0     0       0         0         1       1  \n",
      "69999     1      0     0       1         0         1       0  \n",
      "\n",
      "[70000 rows x 15 columns]\n"
     ]
    },
    {
     "data": {
      "text/plain": [
       "'\\nUnnamed:0 here is the index. Delete or not to delete will be determined in the future.\\n\\n'"
      ]
     },
     "execution_count": 14,
     "metadata": {},
     "output_type": "execute_result"
    }
   ],
   "source": [
    "print(df)\n",
    "\"\"\"\n",
    "Unnamed:0 here is the index. Delete or not to delete will be determined in the future.\n",
    "\n",
    "\"\"\""
   ]
  },
  {
   "cell_type": "code",
   "execution_count": 15,
   "metadata": {},
   "outputs": [
    {
     "data": {
      "text/plain": [
       "'\\nage is in days. we need to change that\\n'"
      ]
     },
     "execution_count": 15,
     "metadata": {},
     "output_type": "execute_result"
    }
   ],
   "source": [
    "# print(hot_df)\n",
    "'''\n",
    "age is in days. we need to change that\n",
    "'''"
   ]
  },
  {
   "cell_type": "code",
   "execution_count": 16,
   "metadata": {},
   "outputs": [],
   "source": [
    "df['days'] = df['age']\n",
    "df['age'] = round(df['days']/365, 0)\n"
   ]
  },
  {
   "cell_type": "code",
   "execution_count": 17,
   "metadata": {},
   "outputs": [],
   "source": [
    "def make_a_corr(df):\n",
    "    candidates = [col for col in df.columns if col!= 'Unnamed: 0']\n",
    "    curry = df[candidates].corr()\n",
    "    sns.set(font_scale = 1.4)\n",
    "    sns.heatmap(curry, square = True, annot = True, annot_kws={'size':10})\n",
    "    # print(candidates)\n",
    "\n",
    "make_a_corr(df)\n"
   ]
  },
  {
   "cell_type": "code",
   "execution_count": null,
   "metadata": {},
   "outputs": [
    {
     "data": {
      "text/html": [
       "<div>\n",
       "<style scoped>\n",
       "    .dataframe tbody tr th:only-of-type {\n",
       "        vertical-align: middle;\n",
       "    }\n",
       "\n",
       "    .dataframe tbody tr th {\n",
       "        vertical-align: top;\n",
       "    }\n",
       "\n",
       "    .dataframe thead th {\n",
       "        text-align: right;\n",
       "    }\n",
       "</style>\n",
       "<table border=\"1\" class=\"dataframe\">\n",
       "  <thead>\n",
       "    <tr style=\"text-align: right;\">\n",
       "      <th></th>\n",
       "      <th>cardio</th>\n",
       "      <th>age</th>\n",
       "      <th>cholesterol</th>\n",
       "      <th>weight</th>\n",
       "      <th>BMI</th>\n",
       "    </tr>\n",
       "  </thead>\n",
       "  <tbody>\n",
       "    <tr>\n",
       "      <th>cardio</th>\n",
       "      <td>1.000000</td>\n",
       "      <td>0.237749</td>\n",
       "      <td>0.221147</td>\n",
       "      <td>0.181660</td>\n",
       "      <td>0.165633</td>\n",
       "    </tr>\n",
       "    <tr>\n",
       "      <th>age</th>\n",
       "      <td>0.237749</td>\n",
       "      <td>1.000000</td>\n",
       "      <td>0.154386</td>\n",
       "      <td>0.053661</td>\n",
       "      <td>0.085421</td>\n",
       "    </tr>\n",
       "    <tr>\n",
       "      <th>cholesterol</th>\n",
       "      <td>0.221147</td>\n",
       "      <td>0.154386</td>\n",
       "      <td>1.000000</td>\n",
       "      <td>0.141768</td>\n",
       "      <td>0.146268</td>\n",
       "    </tr>\n",
       "    <tr>\n",
       "      <th>weight</th>\n",
       "      <td>0.181660</td>\n",
       "      <td>0.053661</td>\n",
       "      <td>0.141768</td>\n",
       "      <td>1.000000</td>\n",
       "      <td>0.762003</td>\n",
       "    </tr>\n",
       "    <tr>\n",
       "      <th>BMI</th>\n",
       "      <td>0.165633</td>\n",
       "      <td>0.085421</td>\n",
       "      <td>0.146268</td>\n",
       "      <td>0.762003</td>\n",
       "      <td>1.000000</td>\n",
       "    </tr>\n",
       "  </tbody>\n",
       "</table>\n",
       "</div>"
      ],
      "text/plain": [
       "               cardio       age  cholesterol    weight       BMI\n",
       "cardio       1.000000  0.237749     0.221147  0.181660  0.165633\n",
       "age          0.237749  1.000000     0.154386  0.053661  0.085421\n",
       "cholesterol  0.221147  0.154386     1.000000  0.141768  0.146268\n",
       "weight       0.181660  0.053661     0.141768  1.000000  0.762003\n",
       "BMI          0.165633  0.085421     0.146268  0.762003  1.000000"
      ]
     },
     "execution_count": 7,
     "metadata": {},
     "output_type": "execute_result"
    }
   ],
   "source": [
    "mon = df[['cardio', 'age', 'cholesterol', 'weight', 'BMI']].corr()\n",
    "mon"
   ]
  },
  {
   "cell_type": "code",
   "execution_count": null,
   "metadata": {},
   "outputs": [
    {
     "name": "stdout",
     "output_type": "stream",
     "text": [
      "Average BMI of Men:  27.59\n",
      "Average BMI of Women:  29.1\n",
      "Average BMI of Total:  28.57\n",
      "[27.59, 29.1, 28.57]\n"
     ]
    },
    {
     "data": {
      "text/plain": [
       "<BarContainer object of 3 artists>"
      ]
     },
     "execution_count": 8,
     "metadata": {},
     "output_type": "execute_result"
    },
    {
     "data": {
      "image/png": "[encoded data removed]",
      "text/plain": [
       "<Figure size 1440x720 with 1 Axes>"
      ]
     },
     "metadata": {},
     "output_type": "display_data"
    }
   ],
   "source": [
    "'''avg BMI of ppl with cardio '''\n",
    "bmis_avg = []\n",
    "def avg_of_BMI(df, gender):\n",
    "    if gender == 'male':\n",
    "        result =  df.loc[df.gender_2 == 1].loc[df.cardio == 1].BMI.mean()\n",
    "        bmis_avg.append(round(result, 2))\n",
    "        return result\n",
    "    elif gender == 'female':\n",
    "        result = df.loc[df.gender_1 == 1].loc[df.cardio == 1].BMI.mean()\n",
    "        bmis_avg.append(round(result, 2))\n",
    "        return result\n",
    "    else:\n",
    "        result = df.loc[df.cardio == 1].BMI.mean()\n",
    "        bmis_avg.append(round(result, 2))\n",
    "        return result\n",
    "\n",
    "print('Average BMI of Men: ',round(avg_of_BMI(df, 'male'), 2))\n",
    "print('Average BMI of Women: ', round(avg_of_BMI(df, 'female'), 2))\n",
    "print('Average BMI of Total: ', round(avg_of_BMI(df, 'mmmm'), 2))\n",
    "print(bmis_avg)\n",
    "plt.bar(['Male', 'Female', 'Everyone'], bmis_avg, 0.4)"
   ]
  },
  {
   "cell_type": "code",
   "execution_count": null,
   "metadata": {},
   "outputs": [
    {
     "name": "stdout",
     "output_type": "stream",
     "text": [
      "Average age of Men:  55.0\n",
      "Average age of Women:  55.0\n",
      "Average ageof Total:  55.0\n"
     ]
    }
   ],
   "source": [
    "###avg age with cardio disease\n",
    "\n",
    "def avg_of_age(df, gender):\n",
    "    if gender == 'male':\n",
    "        return df.loc[df.gender_2 == 1].loc[df.cardio == 1].age.mean()\n",
    "    elif gender == 'female':\n",
    "        return df.loc[df.gender_1 == 1].loc[df.cardio == 1].age.mean()\n",
    "    else:\n",
    "        return df.loc[df.cardio == 1].age.mean()\n",
    "\n",
    "print('Average age of Men: ',round(avg_of_age(df, 'male'), 0))\n",
    "print('Average age of Women: ', round(avg_of_age(df, 'female'), 0))\n",
    "print('Average ageof Total: ', round(avg_of_age(df, 'mmmm'), 0))"
   ]
  },
  {
   "cell_type": "code",
   "execution_count": null,
   "metadata": {},
   "outputs": [
    {
     "name": "stdout",
     "output_type": "stream",
     "text": [
      "Min age of Men:  39.0\n",
      "Min age of Women:  39.0\n",
      "Min age of Total:  39.0\n"
     ]
    }
   ],
   "source": [
    "def min_of_age(df, gender):\n",
    "    if gender == 'male':\n",
    "        return df.loc[df.gender_2 == 1].loc[df.cardio == 1].age.min()\n",
    "    elif gender == 'female':\n",
    "        return df.loc[df.gender_1 == 1].loc[df.cardio == 1].age.min()\n",
    "    else:\n",
    "        return df.loc[df.cardio == 1].age.min()\n",
    "\n",
    "print('Min age of Men: ',round(min_of_age(df, 'male'), 0))\n",
    "print('Min age of Women: ', round(min_of_age(df, 'female'), 0))\n",
    "print('Min age of Total: ', round(min_of_age(df, 'mmmm'), 0))"
   ]
  },
  {
   "cell_type": "code",
   "execution_count": null,
   "metadata": {},
   "outputs": [
    {
     "name": "stdout",
     "output_type": "stream",
     "text": [
      "50.52308949734369 49.67274324621129\n"
     ]
    },
    {
     "data": {
      "text/plain": [
       "'Men are most likely to get cardioviscular disease'"
      ]
     },
     "execution_count": 11,
     "metadata": {},
     "output_type": "execute_result"
    }
   ],
   "source": [
    "#who's most likely to get cardioviscular. Men or Women?\n",
    "\n",
    "mmmm = df.loc[df.gender_2 == 1] #Men\n",
    "wwww = df.loc[df.gender_1 == 1] # Women\n",
    "\n",
    "len_m = len(mmmm)\n",
    "len_w = len(wwww)\n",
    "\n",
    "ommmm= mmmm.loc[df.cardio == 1]\n",
    "owwww = wwww.loc[df.cardio == 1]\n",
    "\n",
    "len_om = len(ommmm)\n",
    "len_ow = len(owwww)\n",
    "\n",
    "res_m = len_om/len_m * 100\n",
    "res_w = len_ow/len_w * 100\n",
    "\n",
    "print(res_m, res_w)\n",
    "'''Men are most likely to get cardioviscular disease'''"
   ]
  },
  {
   "cell_type": "code",
   "execution_count": null,
   "metadata": {},
   "outputs": [],
   "source": []
  }
 ],
 "metadata": {
  "kernelspec": {
   "display_name": "Python 3.7.13 ('py37')",
   "language": "python",
   "name": "python3"
  },
  "language_info": {
   "codemirror_mode": {
    "name": "ipython",
    "version": 3
   },
   "file_extension": ".py",
   "mimetype": "text/x-python",
   "name": "python",
   "nbconvert_exporter": "python",
   "pygments_lexer": "ipython3",
   "version": "3.7.13"
  },
  "orig_nbformat": 4,
  "vscode": {
   "interpreter": {
    "hash": "89a78d03f68d1a9d37e769d4c5250648d75b05ae0835c449b1ce112d71715240"
   }
  }
 },
 "nbformat": 4,
 "nbformat_minor": 2
}
