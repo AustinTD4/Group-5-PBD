{
 "cells": [
  {
   "cell_type": "code",
   "execution_count": 132,
   "id": "0662ff6b",
   "metadata": {
    "scrolled": false
   },
   "outputs": [],
   "source": [
    "import random\n",
    "import numpy as np\n",
    "import pandas as pd\n",
    "import sklearn\n",
    "import matplotlib.pyplot as plt\n",
    "from scipy import stats\n",
    "import datetime\n",
    "import sys\n",
    "from io import StringIO\n",
    "import statsmodels.api as sm\n",
    "import os\n",
    "from sklearn.preprocessing import PolynomialFeatures\n",
    "from sklearn.pipeline import make_pipeline\n",
    "from sklearn.ensemble import RandomForestClassifier\n",
    "from sklearn.metrics import confusion_matrix\n",
    "from sklearn.metrics import f1_score\n",
    "from sklearn.model_selection import KFold\n",
    "from sklearn.model_selection import cross_val_predict\n"
   ]
  },
  {
   "cell_type": "code",
   "execution_count": 133,
   "id": "60b57084",
   "metadata": {},
   "outputs": [
    {
     "name": "stdout",
     "output_type": "stream",
     "text": [
      "          id  age  gender  height  weight  ap_hi  ap_lo  cholesterol  gluc  \\\n",
      "224      309   59       2      76    55.0    120     80            1     1   \n",
      "28737  41075   54       1      91    55.0    140     90            1     1   \n",
      "56022  79917   58       1      96    59.0     90     60            1     1   \n",
      "17277  24690   48       1      98    45.0     12     80            1     1   \n",
      "65302  93223   50       1      99    60.0     90     60            1     1   \n",
      "...      ...  ...     ...     ...     ...    ...    ...          ...   ...   \n",
      "40090  57307   58       1     198    99.0    140     80            1     1   \n",
      "8897   12687   61       2     198    79.0    160    100            1     1   \n",
      "41901  59847   52       2     200   100.0    170   1100            2     2   \n",
      "21628  30894   52       2     207    78.0    100     70            1     1   \n",
      "6486    9223   58       1     250    86.0    140    100            3     1   \n",
      "\n",
      "       smoke  alco  active  cardio    BMI  pressure_difference  \n",
      "224        0     0       1       0  95.22                   40  \n",
      "28737      0     0       1       1  66.42                   50  \n",
      "56022      0     0       1       1  64.02                   30  \n",
      "17277      0     0       1       0  46.86                  -68  \n",
      "65302      0     0       1       0  61.22                   30  \n",
      "...      ...   ...     ...     ...    ...                  ...  \n",
      "40090      0     0       1       1  25.25                   60  \n",
      "8897       1     0       0       1  20.15                   60  \n",
      "41901      0     0       1       1  25.00                 -930  \n",
      "21628      0     1       1       0  18.20                   30  \n",
      "6486       0     0       1       1  13.76                   40  \n",
      "\n",
      "[69971 rows x 15 columns]\n"
     ]
    }
   ],
   "source": [
    "#set up DF\n",
    "cardiodf = pd.read_csv('/Users/Sanne/Downloads/cardio_train.csv', delimiter=';')\n",
    "\n",
    "cardiodf['age']=cardiodf['age']//365\n",
    "cardiodf=cardiodf.sort_values('height')\n",
    "cardiodf['BMI'] = round(cardiodf['weight']/((cardiodf['height']/100)**2),2)\n",
    "\n",
    "for i in cardiodf.index:\n",
    "    if cardiodf['BMI'][i] > 100:\n",
    "        cardiodf = cardiodf.drop(i)\n",
    "        \n",
    "cardiodf['pressure_difference'] = cardiodf.ap_hi - cardiodf.ap_lo        \n",
    "\n",
    "print(cardiodf)"
   ]
  },
  {
   "cell_type": "code",
   "execution_count": 134,
   "id": "db5c9f0a",
   "metadata": {},
   "outputs": [
    {
     "name": "stdout",
     "output_type": "stream",
     "text": [
      "count    45510.000000\n",
      "mean        52.954823\n",
      "std          6.670227\n",
      "min         29.000000\n",
      "25%         49.000000\n",
      "50%         54.000000\n",
      "75%         58.000000\n",
      "max         64.000000\n",
      "Name: age, dtype: float64\n",
      "count    45510.000000\n",
      "mean        27.925370\n",
      "std          5.661326\n",
      "min          8.000000\n",
      "25%         23.880000\n",
      "50%         26.710000\n",
      "75%         31.020000\n",
      "max         86.780000\n",
      "Name: BMI, dtype: float64\n"
     ]
    }
   ],
   "source": [
    "#women df\n",
    "women_df = cardiodf[cardiodf.gender == 1]\n",
    "age_stats_w = women_df['age'].describe()\n",
    "bmi_stats_w = women_df['BMI'].describe()\n",
    "pressure_stats_w = women_df['pressure_difference'].describe()\n",
    "\n",
    "print(age_stats_w)\n",
    "print(bmi_stats_w)\n",
    "print(pressure_stats_w)"
   ]
  },
  {
   "cell_type": "code",
   "execution_count": 162,
   "id": "04cd8c63",
   "metadata": {},
   "outputs": [
    {
     "name": "stdout",
     "output_type": "stream",
     "text": [
      "count    24461.000000\n",
      "mean        52.630187\n",
      "std          6.937369\n",
      "min         29.000000\n",
      "25%         47.000000\n",
      "50%         53.000000\n",
      "75%         58.000000\n",
      "max         64.000000\n",
      "Name: age, dtype: float64\n",
      "count    24461.000000\n",
      "mean        26.706330\n",
      "std          4.498638\n",
      "min          3.470000\n",
      "25%         23.780000\n",
      "50%         25.910000\n",
      "75%         29.040000\n",
      "max         95.220000\n",
      "Name: BMI, dtype: float64\n",
      "count    24461.000000\n",
      "mean        29.518867\n",
      "std        255.365436\n",
      "min      -9860.000000\n",
      "25%         40.000000\n",
      "50%         40.000000\n",
      "75%         50.000000\n",
      "max      13940.000000\n",
      "Name: pressure_difference, dtype: float64\n"
     ]
    }
   ],
   "source": [
    "#men df\n",
    "\n",
    "men_df = cardiodf[cardiodf.gender == 2]\n",
    "age_stats = men_df['age'].describe()\n",
    "bmi_stats = men_df['BMI'].describe()\n",
    "pressure_stats = men_df['pressure_difference'].describe()\n",
    "print(age_stats)\n",
    "print(bmi_stats)\n",
    "print(pressure_stats)\n"
   ]
  },
  {
   "cell_type": "code",
   "execution_count": 136,
   "id": "691c205e",
   "metadata": {},
   "outputs": [
    {
     "name": "stdout",
     "output_type": "stream",
     "text": [
      "Average age of Men:  52.954823115798725\n",
      "Average age of Women:  52.63018682801194\n"
     ]
    },
    {
     "data": {
      "image/png": "[encoded data removed]",
      "text/plain": [
       "<Figure size 432x288 with 1 Axes>"
      ]
     },
     "metadata": {
      "needs_background": "light"
     },
     "output_type": "display_data"
    },
    {
     "data": {
      "image/png": "[encoded data removed]",
      "text/plain": [
       "<Figure size 432x288 with 1 Axes>"
      ]
     },
     "metadata": {
      "needs_background": "light"
     },
     "output_type": "display_data"
    }
   ],
   "source": [
    "#histogram with ages male and female.\n",
    "women_ages =women_df['age'].tolist()\n",
    "\n",
    "women_average = sum(women_ages)/len(women_ages)\n",
    "women_histo = plt.hist(women_ages, bins=15)\n",
    "men_ages = men_df['age'].tolist()\n",
    "men_average = sum(men_ages)/len(men_ages)\n",
    "print('Average age of Men: ',women_average)\n",
    "print('Average age of Women: ', men_average)\n",
    "plt.hist(men_ages,bins=15)\n",
    "plt.title('Age')\n",
    "plt.xlabel('Age')\n",
    "plt.ylabel('Frequency')\n",
    "plt.gca().legend(('women','men'))\n",
    "plt.show()\n",
    "all_ages=[women_ages,men_ages]\n",
    "plt.boxplot(all_ages, notch=None, patch_artist=None, widths=None)\n",
    "plt.title('boxplot of all ages')\n",
    "plt.show()"
   ]
  },
  {
   "cell_type": "code",
   "execution_count": 137,
   "id": "c856a699",
   "metadata": {},
   "outputs": [
    {
     "data": {
      "image/png": "[encoded data removed]",
      "text/plain": [
       "<Figure size 432x288 with 1 Axes>"
      ]
     },
     "metadata": {
      "needs_background": "light"
     },
     "output_type": "display_data"
    },
    {
     "data": {
      "image/png": "[encoded data removed]",
      "text/plain": [
       "<Figure size 432x288 with 1 Axes>"
      ]
     },
     "metadata": {
      "needs_background": "light"
     },
     "output_type": "display_data"
    }
   ],
   "source": [
    "#visualizations of BMI\n",
    "women_bmi = women_df['BMI'].tolist()\n",
    "plt.hist(women_bmi, bins=15)\n",
    "men_bmi = men_df['BMI'].tolist()\n",
    "plt.hist(men_bmi, bins=15)\n",
    "plt.title('BMI')\n",
    "plt.xlabel('BMI')\n",
    "plt.ylabel('Frequency')\n",
    "plt.gca().legend(('women','men'))\n",
    "plt.show()\n",
    "all_bmi = [women_bmi, men_bmi]\n",
    "plt.boxplot(all_bmi, notch=None, vert=None, patch_artist=None, widths=None)\n",
    "plt.show()"
   ]
  },
  {
   "cell_type": "code",
   "execution_count": 153,
   "id": "365124b3",
   "metadata": {},
   "outputs": [],
   "source": [
    "#counting method\n",
    "def frequency_table(df, column):\n",
    "    freq_table = pd.crosstab(index=df[column], columns=\"count\") \n",
    "    return freq_table\n"
   ]
  },
  {
   "cell_type": "code",
   "execution_count": 154,
   "id": "f74d2637",
   "metadata": {},
   "outputs": [
    {
     "data": {
      "text/html": [
       "<div>\n",
       "<style scoped>\n",
       "    .dataframe tbody tr th:only-of-type {\n",
       "        vertical-align: middle;\n",
       "    }\n",
       "\n",
       "    .dataframe tbody tr th {\n",
       "        vertical-align: top;\n",
       "    }\n",
       "\n",
       "    .dataframe thead th {\n",
       "        text-align: right;\n",
       "    }\n",
       "</style>\n",
       "<table border=\"1\" class=\"dataframe\">\n",
       "  <thead>\n",
       "    <tr style=\"text-align: right;\">\n",
       "      <th>col_0</th>\n",
       "      <th>count</th>\n",
       "    </tr>\n",
       "    <tr>\n",
       "      <th>cholesterol</th>\n",
       "      <th></th>\n",
       "    </tr>\n",
       "  </thead>\n",
       "  <tbody>\n",
       "    <tr>\n",
       "      <th>1</th>\n",
       "      <td>33552</td>\n",
       "    </tr>\n",
       "    <tr>\n",
       "      <th>2</th>\n",
       "      <td>6403</td>\n",
       "    </tr>\n",
       "    <tr>\n",
       "      <th>3</th>\n",
       "      <td>5555</td>\n",
       "    </tr>\n",
       "  </tbody>\n",
       "</table>\n",
       "</div>"
      ],
      "text/plain": [
       "col_0        count\n",
       "cholesterol       \n",
       "1            33552\n",
       "2             6403\n",
       "3             5555"
      ]
     },
     "execution_count": 154,
     "metadata": {},
     "output_type": "execute_result"
    }
   ],
   "source": [
    "frequency_table(women_df, 'cholesterol')"
   ]
  },
  {
   "cell_type": "code",
   "execution_count": 155,
   "id": "168b28a5",
   "metadata": {},
   "outputs": [
    {
     "data": {
      "text/html": [
       "<div>\n",
       "<style scoped>\n",
       "    .dataframe tbody tr th:only-of-type {\n",
       "        vertical-align: middle;\n",
       "    }\n",
       "\n",
       "    .dataframe tbody tr th {\n",
       "        vertical-align: top;\n",
       "    }\n",
       "\n",
       "    .dataframe thead th {\n",
       "        text-align: right;\n",
       "    }\n",
       "</style>\n",
       "<table border=\"1\" class=\"dataframe\">\n",
       "  <thead>\n",
       "    <tr style=\"text-align: right;\">\n",
       "      <th>col_0</th>\n",
       "      <th>count</th>\n",
       "    </tr>\n",
       "    <tr>\n",
       "      <th>cholesterol</th>\n",
       "      <th></th>\n",
       "    </tr>\n",
       "  </thead>\n",
       "  <tbody>\n",
       "    <tr>\n",
       "      <th>1</th>\n",
       "      <td>18807</td>\n",
       "    </tr>\n",
       "    <tr>\n",
       "      <th>2</th>\n",
       "      <td>3146</td>\n",
       "    </tr>\n",
       "    <tr>\n",
       "      <th>3</th>\n",
       "      <td>2508</td>\n",
       "    </tr>\n",
       "  </tbody>\n",
       "</table>\n",
       "</div>"
      ],
      "text/plain": [
       "col_0        count\n",
       "cholesterol       \n",
       "1            18807\n",
       "2             3146\n",
       "3             2508"
      ]
     },
     "execution_count": 155,
     "metadata": {},
     "output_type": "execute_result"
    }
   ],
   "source": [
    "frequency_table(men_df, 'cholesterol')"
   ]
  },
  {
   "cell_type": "code",
   "execution_count": 156,
   "id": "9305cb75",
   "metadata": {},
   "outputs": [
    {
     "data": {
      "text/html": [
       "<div>\n",
       "<style scoped>\n",
       "    .dataframe tbody tr th:only-of-type {\n",
       "        vertical-align: middle;\n",
       "    }\n",
       "\n",
       "    .dataframe tbody tr th {\n",
       "        vertical-align: top;\n",
       "    }\n",
       "\n",
       "    .dataframe thead th {\n",
       "        text-align: right;\n",
       "    }\n",
       "</style>\n",
       "<table border=\"1\" class=\"dataframe\">\n",
       "  <thead>\n",
       "    <tr style=\"text-align: right;\">\n",
       "      <th>col_0</th>\n",
       "      <th>count</th>\n",
       "    </tr>\n",
       "    <tr>\n",
       "      <th>smoke</th>\n",
       "      <th></th>\n",
       "    </tr>\n",
       "  </thead>\n",
       "  <tbody>\n",
       "    <tr>\n",
       "      <th>0</th>\n",
       "      <td>44698</td>\n",
       "    </tr>\n",
       "    <tr>\n",
       "      <th>1</th>\n",
       "      <td>812</td>\n",
       "    </tr>\n",
       "  </tbody>\n",
       "</table>\n",
       "</div>"
      ],
      "text/plain": [
       "col_0  count\n",
       "smoke       \n",
       "0      44698\n",
       "1        812"
      ]
     },
     "execution_count": 156,
     "metadata": {},
     "output_type": "execute_result"
    }
   ],
   "source": [
    "frequency_table(women_df, 'smoke')"
   ]
  },
  {
   "cell_type": "code",
   "execution_count": 157,
   "id": "13b04c78",
   "metadata": {},
   "outputs": [
    {
     "data": {
      "text/html": [
       "<div>\n",
       "<style scoped>\n",
       "    .dataframe tbody tr th:only-of-type {\n",
       "        vertical-align: middle;\n",
       "    }\n",
       "\n",
       "    .dataframe tbody tr th {\n",
       "        vertical-align: top;\n",
       "    }\n",
       "\n",
       "    .dataframe thead th {\n",
       "        text-align: right;\n",
       "    }\n",
       "</style>\n",
       "<table border=\"1\" class=\"dataframe\">\n",
       "  <thead>\n",
       "    <tr style=\"text-align: right;\">\n",
       "      <th>col_0</th>\n",
       "      <th>count</th>\n",
       "    </tr>\n",
       "    <tr>\n",
       "      <th>smoke</th>\n",
       "      <th></th>\n",
       "    </tr>\n",
       "  </thead>\n",
       "  <tbody>\n",
       "    <tr>\n",
       "      <th>0</th>\n",
       "      <td>19107</td>\n",
       "    </tr>\n",
       "    <tr>\n",
       "      <th>1</th>\n",
       "      <td>5354</td>\n",
       "    </tr>\n",
       "  </tbody>\n",
       "</table>\n",
       "</div>"
      ],
      "text/plain": [
       "col_0  count\n",
       "smoke       \n",
       "0      19107\n",
       "1       5354"
      ]
     },
     "execution_count": 157,
     "metadata": {},
     "output_type": "execute_result"
    }
   ],
   "source": [
    "frequency_table(men_df, 'smoke')"
   ]
  },
  {
   "cell_type": "code",
   "execution_count": 160,
   "id": "a65d65a8",
   "metadata": {},
   "outputs": [
    {
     "data": {
      "text/html": [
       "<div>\n",
       "<style scoped>\n",
       "    .dataframe tbody tr th:only-of-type {\n",
       "        vertical-align: middle;\n",
       "    }\n",
       "\n",
       "    .dataframe tbody tr th {\n",
       "        vertical-align: top;\n",
       "    }\n",
       "\n",
       "    .dataframe thead th {\n",
       "        text-align: right;\n",
       "    }\n",
       "</style>\n",
       "<table border=\"1\" class=\"dataframe\">\n",
       "  <thead>\n",
       "    <tr style=\"text-align: right;\">\n",
       "      <th>col_0</th>\n",
       "      <th>count</th>\n",
       "    </tr>\n",
       "    <tr>\n",
       "      <th>alco</th>\n",
       "      <th></th>\n",
       "    </tr>\n",
       "  </thead>\n",
       "  <tbody>\n",
       "    <tr>\n",
       "      <th>0</th>\n",
       "      <td>44350</td>\n",
       "    </tr>\n",
       "    <tr>\n",
       "      <th>1</th>\n",
       "      <td>1160</td>\n",
       "    </tr>\n",
       "  </tbody>\n",
       "</table>\n",
       "</div>"
      ],
      "text/plain": [
       "col_0  count\n",
       "alco        \n",
       "0      44350\n",
       "1       1160"
      ]
     },
     "execution_count": 160,
     "metadata": {},
     "output_type": "execute_result"
    }
   ],
   "source": [
    "frequency_table(women_df, 'alco')"
   ]
  },
  {
   "cell_type": "code",
   "execution_count": 161,
   "id": "b2c1e4af",
   "metadata": {},
   "outputs": [
    {
     "data": {
      "text/html": [
       "<div>\n",
       "<style scoped>\n",
       "    .dataframe tbody tr th:only-of-type {\n",
       "        vertical-align: middle;\n",
       "    }\n",
       "\n",
       "    .dataframe tbody tr th {\n",
       "        vertical-align: top;\n",
       "    }\n",
       "\n",
       "    .dataframe thead th {\n",
       "        text-align: right;\n",
       "    }\n",
       "</style>\n",
       "<table border=\"1\" class=\"dataframe\">\n",
       "  <thead>\n",
       "    <tr style=\"text-align: right;\">\n",
       "      <th>col_0</th>\n",
       "      <th>count</th>\n",
       "    </tr>\n",
       "    <tr>\n",
       "      <th>alco</th>\n",
       "      <th></th>\n",
       "    </tr>\n",
       "  </thead>\n",
       "  <tbody>\n",
       "    <tr>\n",
       "      <th>0</th>\n",
       "      <td>21859</td>\n",
       "    </tr>\n",
       "    <tr>\n",
       "      <th>1</th>\n",
       "      <td>2602</td>\n",
       "    </tr>\n",
       "  </tbody>\n",
       "</table>\n",
       "</div>"
      ],
      "text/plain": [
       "col_0  count\n",
       "alco        \n",
       "0      21859\n",
       "1       2602"
      ]
     },
     "execution_count": 161,
     "metadata": {},
     "output_type": "execute_result"
    }
   ],
   "source": [
    "frequency_table(men_df, 'alco')"
   ]
  },
  {
   "cell_type": "code",
   "execution_count": 158,
   "id": "6aa2a111",
   "metadata": {},
   "outputs": [
    {
     "data": {
      "text/html": [
       "<div>\n",
       "<style scoped>\n",
       "    .dataframe tbody tr th:only-of-type {\n",
       "        vertical-align: middle;\n",
       "    }\n",
       "\n",
       "    .dataframe tbody tr th {\n",
       "        vertical-align: top;\n",
       "    }\n",
       "\n",
       "    .dataframe thead th {\n",
       "        text-align: right;\n",
       "    }\n",
       "</style>\n",
       "<table border=\"1\" class=\"dataframe\">\n",
       "  <thead>\n",
       "    <tr style=\"text-align: right;\">\n",
       "      <th>col_0</th>\n",
       "      <th>count</th>\n",
       "    </tr>\n",
       "    <tr>\n",
       "      <th>cardio</th>\n",
       "      <th></th>\n",
       "    </tr>\n",
       "  </thead>\n",
       "  <tbody>\n",
       "    <tr>\n",
       "      <th>0</th>\n",
       "      <td>22904</td>\n",
       "    </tr>\n",
       "    <tr>\n",
       "      <th>1</th>\n",
       "      <td>22606</td>\n",
       "    </tr>\n",
       "  </tbody>\n",
       "</table>\n",
       "</div>"
      ],
      "text/plain": [
       "col_0   count\n",
       "cardio       \n",
       "0       22904\n",
       "1       22606"
      ]
     },
     "execution_count": 158,
     "metadata": {},
     "output_type": "execute_result"
    }
   ],
   "source": [
    "frequency_table(women_df, 'cardio')"
   ]
  },
  {
   "cell_type": "code",
   "execution_count": 159,
   "id": "52164bc7",
   "metadata": {},
   "outputs": [
    {
     "data": {
      "text/html": [
       "<div>\n",
       "<style scoped>\n",
       "    .dataframe tbody tr th:only-of-type {\n",
       "        vertical-align: middle;\n",
       "    }\n",
       "\n",
       "    .dataframe tbody tr th {\n",
       "        vertical-align: top;\n",
       "    }\n",
       "\n",
       "    .dataframe thead th {\n",
       "        text-align: right;\n",
       "    }\n",
       "</style>\n",
       "<table border=\"1\" class=\"dataframe\">\n",
       "  <thead>\n",
       "    <tr style=\"text-align: right;\">\n",
       "      <th>col_0</th>\n",
       "      <th>count</th>\n",
       "    </tr>\n",
       "    <tr>\n",
       "      <th>cardio</th>\n",
       "      <th></th>\n",
       "    </tr>\n",
       "  </thead>\n",
       "  <tbody>\n",
       "    <tr>\n",
       "      <th>0</th>\n",
       "      <td>12101</td>\n",
       "    </tr>\n",
       "    <tr>\n",
       "      <th>1</th>\n",
       "      <td>12360</td>\n",
       "    </tr>\n",
       "  </tbody>\n",
       "</table>\n",
       "</div>"
      ],
      "text/plain": [
       "col_0   count\n",
       "cardio       \n",
       "0       12101\n",
       "1       12360"
      ]
     },
     "execution_count": 159,
     "metadata": {},
     "output_type": "execute_result"
    }
   ],
   "source": [
    "frequency_table(men_df, 'cardio')"
   ]
  },
  {
   "cell_type": "code",
   "execution_count": 139,
   "id": "d2e36bff",
   "metadata": {},
   "outputs": [],
   "source": [
    "def test_significance(p_value):\n",
    "    if p_value <0.05:\n",
    "        result = 'significant difference'\n",
    "    else:\n",
    "        result = 'no significant difference'\n",
    "    return result"
   ]
  },
  {
   "cell_type": "code",
   "execution_count": 140,
   "id": "e0beba2a",
   "metadata": {},
   "outputs": [],
   "source": [
    "def perform_tests(df, column):\n",
    "    sick  =df[df['cardio']==1]\n",
    "    non_sick = df[df['cardio']==0]\n",
    "    \n",
    "    p_value = stats.ranksums(sick[column],non_sick[column]).pvalue\n",
    "    diff = test_significance (p_value)\n",
    "        \n",
    "    return diff"
   ]
  },
  {
   "cell_type": "code",
   "execution_count": 141,
   "id": "da4173e5",
   "metadata": {},
   "outputs": [
    {
     "data": {
      "text/plain": [
       "'significant difference'"
      ]
     },
     "execution_count": 141,
     "metadata": {},
     "output_type": "execute_result"
    }
   ],
   "source": [
    "perform_tests(women_df,'age')"
   ]
  },
  {
   "cell_type": "code",
   "execution_count": 142,
   "id": "721584fd",
   "metadata": {},
   "outputs": [
    {
     "data": {
      "text/plain": [
       "'significant difference'"
      ]
     },
     "execution_count": 142,
     "metadata": {},
     "output_type": "execute_result"
    }
   ],
   "source": [
    "perform_tests(men_df,'age')"
   ]
  },
  {
   "cell_type": "code",
   "execution_count": 143,
   "id": "f7b4a2e3",
   "metadata": {},
   "outputs": [
    {
     "data": {
      "text/plain": [
       "'significant difference'"
      ]
     },
     "execution_count": 143,
     "metadata": {},
     "output_type": "execute_result"
    }
   ],
   "source": [
    "perform_tests(women_df,'BMI')\n"
   ]
  },
  {
   "cell_type": "code",
   "execution_count": 144,
   "id": "25fd5b9c",
   "metadata": {},
   "outputs": [
    {
     "data": {
      "text/plain": [
       "'significant difference'"
      ]
     },
     "execution_count": 144,
     "metadata": {},
     "output_type": "execute_result"
    }
   ],
   "source": [
    "perform_tests(men_df, 'BMI')"
   ]
  },
  {
   "cell_type": "code",
   "execution_count": 146,
   "id": "3f0a1cba",
   "metadata": {},
   "outputs": [
    {
     "data": {
      "text/plain": [
       "'significant difference'"
      ]
     },
     "execution_count": 146,
     "metadata": {},
     "output_type": "execute_result"
    }
   ],
   "source": [
    "perform_tests(women_df, 'pressure_difference')"
   ]
  },
  {
   "cell_type": "code",
   "execution_count": 147,
   "id": "dd5eee91",
   "metadata": {},
   "outputs": [
    {
     "data": {
      "text/plain": [
       "'significant difference'"
      ]
     },
     "execution_count": 147,
     "metadata": {},
     "output_type": "execute_result"
    }
   ],
   "source": [
    "perform_tests(men_df, 'pressure_difference')"
   ]
  },
  {
   "cell_type": "code",
   "execution_count": null,
   "id": "fe1d6779",
   "metadata": {},
   "outputs": [],
   "source": [
    "\n",
    "def dif_bmi_age_groups(df):\n",
    "    mini = int(df['age'].min())\n",
    "    # print(mini)\n",
    "    if(mini % 10 != 0):\n",
    "        mini = int(mini - (mini % 10))\n",
    "    # print(mini)\n",
    "    \n",
    "    maxi = int(df['age'].max())\n",
    "    # print(maxi)\n",
    "    if(maxi % 10 != 0):\n",
    "        maxi = int(maxi + (10 - (maxi % 10)))\n",
    "    # print(maxi)\n",
    "    results = []\n",
    "    #change this part to BMI\n",
    "    \n",
    "    for i in range(mini, maxi, 10):\n",
    "        # print(df.loc[df.age >= i].loc[df.age < i + 10 ])\n",
    "        mm = difference_bmi(df.loc[df.age >= i].loc[df.age < i + 10 ])\n",
    "        results.append([round(mm,1), i])\n",
    "    return results\n",
    "    \n",
    "\n",
    "print(dif_blood_age_groups(df))\n",
    "'''There is a difference between difference gaps between blood pressures of each age group'''\n"
   ]
  }
 ],
 "metadata": {
  "kernelspec": {
   "display_name": "Python 3 (ipykernel)",
   "language": "python",
   "name": "python3"
  },
  "language_info": {
   "codemirror_mode": {
    "name": "ipython",
    "version": 3
   },
   "file_extension": ".py",
   "mimetype": "text/x-python",
   "name": "python",
   "nbconvert_exporter": "python",
   "pygments_lexer": "ipython3",
   "version": "3.7.11"
  }
 },
 "nbformat": 4,
 "nbformat_minor": 5
}
